{
  "nbformat": 4,
  "nbformat_minor": 0,
  "metadata": {
    "colab": {
      "name": "6octubre_1310.ipynb",
      "provenance": [],
      "authorship_tag": "ABX9TyPkDkWvuiEH6nYfbfOGQyv6",
      "include_colab_link": true
    },
    "kernelspec": {
      "name": "python3",
      "display_name": "Python 3"
    }
  },
  "cells": [
    {
      "cell_type": "markdown",
      "metadata": {
        "id": "view-in-github",
        "colab_type": "text"
      },
      "source": [
        "<a href=\"https://colab.research.google.com/github/Alejandro-Duran/edd_1310_2020_6octubre/blob/main/6octubre_1310.ipynb\" target=\"_parent\"><img src=\"https://colab.research.google.com/assets/colab-badge.svg\" alt=\"Open In Colab\"/></a>"
      ]
    },
    {
      "cell_type": "code",
      "metadata": {
        "id": "t2L6ou65F18a",
        "outputId": "c0561e7f-0c24-47a9-ce5f-8c005c19d2dc",
        "colab": {
          "base_uri": "https://localhost:8080/",
          "height": 340
        }
      },
      "source": [
        "#String continuación\n",
        "\n",
        "numeros_txt='     1, 2, 3, 4    , 5   , 35    ,15   , 12'\n",
        "print(numeros_txt)\n",
        "numeros_txt = numeros_txt.lstrip().split(',')\n",
        "print(numeros_txt)\n",
        "\n",
        "for j in range (len(numeros_txt)):\n",
        "  numeros_txt[j]=int(numeros_txt[j].strip())\n",
        "print (numeros_txt)\n",
        "\n",
        "#funcion range()\n",
        "\n",
        "#range (inicio, stop, imncremento)\n",
        "print (range(0,10,3))\n",
        "rango = range (1,10,2)\n",
        "\n",
        "for x in rango:\n",
        "  print(x)\n",
        "\n",
        "rango = range(10)\n",
        "for x in rango:\n",
        "  print(x)"
      ],
      "execution_count": 1,
      "outputs": [
        {
          "output_type": "stream",
          "text": [
            "     1, 2, 3, 4    , 5   , 35    ,15   , 12\n",
            "['1', ' 2', ' 3', ' 4    ', ' 5   ', ' 35    ', '15   ', ' 12']\n",
            "[1, 2, 3, 4, 5, 35, 15, 12]\n",
            "range(0, 10, 3)\n",
            "1\n",
            "3\n",
            "5\n",
            "7\n",
            "9\n",
            "0\n",
            "1\n",
            "2\n",
            "3\n",
            "4\n",
            "5\n",
            "6\n",
            "7\n",
            "8\n",
            "9\n"
          ],
          "name": "stdout"
        }
      ]
    },
    {
      "cell_type": "markdown",
      "metadata": {
        "id": "yas789UCF_vn"
      },
      "source": [
        "#Listas\n",
        "-mutables\n",
        "-se declaran con []\n",
        "-selctor [ int ]\n",
        "-pueden ser de cualquier tipo y mezclado\n",
        "\n",
        "#tuplas\n",
        "-No mutables\n",
        "-declaramos con ()\n",
        "-selector [ int ]\n",
        "\n",
        "#diccionarios\n",
        "-son mutables\n",
        "-con conjunto de pares:valor\n",
        "-equivalentes a los objetos JSON en JavaScrip\n",
        "\n",
        "#conjuntos\n",
        "-representaciones de la teoria de conjuntos"
      ]
    },
    {
      "cell_type": "code",
      "metadata": {
        "id": "v8EiqFQGGE4F",
        "outputId": "944a9e45-f1a1-4830-e351-14afd40fa1b4",
        "colab": {
          "base_uri": "https://localhost:8080/",
          "height": 136
        }
      },
      "source": [
        "#listas[equivalentes a los arreglos en otros lenguajes]\n",
        "frutas = [\"pera\",\"manzana\",\"fresa\",\"kiwi\",\"naranja\"]\n",
        "print (frutas)\n",
        "cosas=[\"cuadernos\", 2, 3.1416, True, False, [\"rojo\", \"azul\"]]\n",
        "print (cosas)\n",
        "frutas[2]=\"Fresa\"\n",
        "print(frutas)\n",
        "#agregar a lista\n",
        "frutas.append(\"Aguacate\")#agregar nuevo elemnto al final de la lista\n",
        "print(frutas)\n",
        "frutas.insert(2,\"sandia\")#agrgar un nuevo elemtno en cierta posicion y los demas elementos los recorre\n",
        "print (frutas)\n",
        "\n",
        "fecha = ['06','10','2020']\n",
        "print(fecha)\n",
        "fecha_str=\"/\".join(fecha)#convertir una lista a un solo string\n",
        "print(fecha_str)"
      ],
      "execution_count": 2,
      "outputs": [
        {
          "output_type": "stream",
          "text": [
            "['pera', 'manzana', 'fresa', 'kiwi', 'naranja']\n",
            "['cuadernos', 2, 3.1416, True, False, ['rojo', 'azul']]\n",
            "['pera', 'manzana', 'Fresa', 'kiwi', 'naranja']\n",
            "['pera', 'manzana', 'Fresa', 'kiwi', 'naranja', 'Aguacate']\n",
            "['pera', 'manzana', 'sandia', 'Fresa', 'kiwi', 'naranja', 'Aguacate']\n",
            "['06', '10', '2020']\n",
            "06/10/2020\n"
          ],
          "name": "stdout"
        }
      ]
    },
    {
      "cell_type": "code",
      "metadata": {
        "id": "EsSYw7OZGGGh",
        "outputId": "dfd19d6a-c5b9-4a78-d0d3-cf269896c537",
        "colab": {
          "base_uri": "https://localhost:8080/",
          "height": 136
        }
      },
      "source": [
        "cosas=[\"cuadernos\", 2, 3.1416, True, False, [\"rojo\", \"azul\"]]\n",
        "#eliminar elementos\n",
        "print (cosas)\n",
        "cosas.append(\"libro\")\n",
        "cosas.append(\"Lapiz\")\n",
        "print(cosas)\n",
        "algo=cosas.pop()#eliminar ultimo elemento de lista\n",
        "print (cosas)\n",
        "\n",
        "algo=cosas.pop(2)#eliminar un eleemento determinado con el index\n",
        "print (cosas)\n",
        "\n",
        "cosas.remove(2)\n",
        "print (cosas)\n",
        "\n",
        "#vaciar una lista\n",
        "#cosas.clear()\n",
        "#print(cosas)\n",
        "\n",
        "#ordenar las listas\n",
        "print (frutas)\n",
        "frutas.sort()#ordenar lista \n",
        "print(frutas)"
      ],
      "execution_count": 3,
      "outputs": [
        {
          "output_type": "stream",
          "text": [
            "['cuadernos', 2, 3.1416, True, False, ['rojo', 'azul']]\n",
            "['cuadernos', 2, 3.1416, True, False, ['rojo', 'azul'], 'libro', 'Lapiz']\n",
            "['cuadernos', 2, 3.1416, True, False, ['rojo', 'azul'], 'libro']\n",
            "['cuadernos', 2, True, False, ['rojo', 'azul'], 'libro']\n",
            "['cuadernos', True, False, ['rojo', 'azul'], 'libro']\n",
            "['pera', 'manzana', 'sandia', 'Fresa', 'kiwi', 'naranja', 'Aguacate']\n",
            "['Aguacate', 'Fresa', 'kiwi', 'manzana', 'naranja', 'pera', 'sandia']\n"
          ],
          "name": "stdout"
        }
      ]
    },
    {
      "cell_type": "code",
      "metadata": {
        "id": "jprG2DdXGSo0",
        "outputId": "24b79b00-dccf-4c55-ba2c-ce84d0b1b78c",
        "colab": {
          "base_uri": "https://localhost:8080/",
          "height": 102
        }
      },
      "source": [
        "#slicing\n",
        "cosas=[\"cuadernos\", 2, 3.1416, True, False, [\"rojo\", \"azul\"]]\n",
        "print(cosas[3:5:1])\n",
        "print(cosas)\n",
        "print(cosas[0][3:5:1])\n",
        "\n",
        "numeros = [1,2,3,4,5,6,7,8,9,10,11,12,13,14]\n",
        "print(numeros[7:12:1])\n",
        "#preguntar por existencias\n",
        "print(100 in numeros)"
      ],
      "execution_count": 4,
      "outputs": [
        {
          "output_type": "stream",
          "text": [
            "[True, False]\n",
            "['cuadernos', 2, 3.1416, True, False, ['rojo', 'azul']]\n",
            "de\n",
            "[8, 9, 10, 11, 12]\n",
            "False\n"
          ],
          "name": "stdout"
        }
      ]
    },
    {
      "cell_type": "markdown",
      "metadata": {
        "id": "zc7F4lj8GTkR"
      },
      "source": [
        "#listas multi dimension\n",
        "listas dentro de listas"
      ]
    },
    {
      "cell_type": "code",
      "metadata": {
        "id": "ASRq-OxGGWbn",
        "outputId": "db76d88f-1c24-4883-ae30-2f8e9356b841",
        "colab": {
          "base_uri": "https://localhost:8080/",
          "height": 333
        }
      },
      "source": [
        "computadoras=[\"hp\", \"mac book pro 17\", \"mate book\",\"lenovo legion\"]\n",
        "oss=[\"windows 10\", \"linux\", \"android\", \"ios\",]\n",
        "computo=[computadoras, oss]\n",
        "print(computo[0])\n",
        "print(computo[1])\n",
        "print(computo[0][2])\n",
        "print(computo[0][2][0:5])\n",
        "print(computo[0][3][5: :-1])\n",
        "print(\"Linux\"in computo[1])\n",
        "computo.append(dbms)\n",
        "print(computo)\n",
        "print(computo[2][0][0])\n",
        "print(computo[2][1][1])"
      ],
      "execution_count": 5,
      "outputs": [
        {
          "output_type": "stream",
          "text": [
            "['hp', 'mac book pro 17', 'mate book', 'lenovo legion']\n",
            "['windows 10', 'linux', 'android', 'ios']\n",
            "mate book\n",
            "mate \n",
            "ovonel\n",
            "False\n"
          ],
          "name": "stdout"
        },
        {
          "output_type": "error",
          "ename": "NameError",
          "evalue": "ignored",
          "traceback": [
            "\u001b[0;31m---------------------------------------------------------------------------\u001b[0m",
            "\u001b[0;31mNameError\u001b[0m                                 Traceback (most recent call last)",
            "\u001b[0;32m<ipython-input-5-9f5485634742>\u001b[0m in \u001b[0;36m<module>\u001b[0;34m()\u001b[0m\n\u001b[1;32m      8\u001b[0m \u001b[0mprint\u001b[0m\u001b[0;34m(\u001b[0m\u001b[0mcomputo\u001b[0m\u001b[0;34m[\u001b[0m\u001b[0;36m0\u001b[0m\u001b[0;34m]\u001b[0m\u001b[0;34m[\u001b[0m\u001b[0;36m3\u001b[0m\u001b[0;34m]\u001b[0m\u001b[0;34m[\u001b[0m\u001b[0;36m5\u001b[0m\u001b[0;34m:\u001b[0m \u001b[0;34m:\u001b[0m\u001b[0;34m-\u001b[0m\u001b[0;36m1\u001b[0m\u001b[0;34m]\u001b[0m\u001b[0;34m)\u001b[0m\u001b[0;34m\u001b[0m\u001b[0;34m\u001b[0m\u001b[0m\n\u001b[1;32m      9\u001b[0m \u001b[0mprint\u001b[0m\u001b[0;34m(\u001b[0m\u001b[0;34m\"Linux\"\u001b[0m\u001b[0;32min\u001b[0m \u001b[0mcomputo\u001b[0m\u001b[0;34m[\u001b[0m\u001b[0;36m1\u001b[0m\u001b[0;34m]\u001b[0m\u001b[0;34m)\u001b[0m\u001b[0;34m\u001b[0m\u001b[0;34m\u001b[0m\u001b[0m\n\u001b[0;32m---> 10\u001b[0;31m \u001b[0mcomputo\u001b[0m\u001b[0;34m.\u001b[0m\u001b[0mappend\u001b[0m\u001b[0;34m(\u001b[0m\u001b[0mdbms\u001b[0m\u001b[0;34m)\u001b[0m\u001b[0;34m\u001b[0m\u001b[0;34m\u001b[0m\u001b[0m\n\u001b[0m\u001b[1;32m     11\u001b[0m \u001b[0mprint\u001b[0m\u001b[0;34m(\u001b[0m\u001b[0mcomputo\u001b[0m\u001b[0;34m)\u001b[0m\u001b[0;34m\u001b[0m\u001b[0;34m\u001b[0m\u001b[0m\n\u001b[1;32m     12\u001b[0m \u001b[0mprint\u001b[0m\u001b[0;34m(\u001b[0m\u001b[0mcomputo\u001b[0m\u001b[0;34m[\u001b[0m\u001b[0;36m2\u001b[0m\u001b[0;34m]\u001b[0m\u001b[0;34m[\u001b[0m\u001b[0;36m0\u001b[0m\u001b[0;34m]\u001b[0m\u001b[0;34m[\u001b[0m\u001b[0;36m0\u001b[0m\u001b[0;34m]\u001b[0m\u001b[0;34m)\u001b[0m\u001b[0;34m\u001b[0m\u001b[0;34m\u001b[0m\u001b[0m\n",
            "\u001b[0;31mNameError\u001b[0m: name 'dbms' is not defined"
          ]
        }
      ]
    }
  ]
}