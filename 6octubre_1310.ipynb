{
  "nbformat": 4,
  "nbformat_minor": 0,
  "metadata": {
    "colab": {
      "name": "6octubre_1310.ipynb",
      "provenance": [],
      "authorship_tag": "ABX9TyPDsTfiWZm2+9WudKh9lB8K",
      "include_colab_link": true
    },
    "kernelspec": {
      "name": "python3",
      "display_name": "Python 3"
    }
  },
  "cells": [
    {
      "cell_type": "markdown",
      "metadata": {
        "id": "view-in-github",
        "colab_type": "text"
      },
      "source": [
        "<a href=\"https://colab.research.google.com/github/Alejandro-Duran/edd_1310_2020_6octubre/blob/main/6octubre_1310.ipynb\" target=\"_parent\"><img src=\"https://colab.research.google.com/assets/colab-badge.svg\" alt=\"Open In Colab\"/></a>"
      ]
    },
    {
      "cell_type": "code",
      "metadata": {
        "id": "RLiN15uzrZdo"
      },
      "source": [
        "#String continuación\n",
        "\n",
        "numeros_txt='     1, 2, 3, 4    , 5   , 35    ,15   , 12'\n",
        "print(numeros_txt)\n",
        "numeros_txt = numeros_txt.lstrip().split(',')\n",
        "print(numeros_txt)\n",
        "\n",
        "for j in range (len(numeros_txt)):\n",
        "  numeros_txt[j]=int(numeros_txt[j].strip())\n",
        "print (numeros_txt)\n",
        "\n",
        "#funcion range()\n",
        "\n",
        "#range (inicio, stop, imncremento)\n",
        "print (range(0,10,3))\n",
        "rango = range (1,10,2)\n",
        "\n",
        "for x in rango:\n",
        "  print(x)\n",
        "\n",
        "rango = range(10)\n",
        "for x in rango:\n",
        "  print(x)"
      ],
      "execution_count": null,
      "outputs": []
    },
    {
      "cell_type": "markdown",
      "metadata": {
        "id": "w-iUza2lxJP2"
      },
      "source": [
        "#Listas\n",
        "-mutables\n",
        "-se declaran con []\n",
        "-selctor [ int ]\n",
        "-pueden ser de cualquier tipo y mezclado\n",
        "\n",
        "#tuplas\n",
        "-No mutables\n",
        "-declaramos con ()\n",
        "-selector [ int ]\n",
        "\n",
        "#diccionarios\n",
        "-son mutables\n",
        "-con conjunto de pares:valor\n",
        "-equivalentes a los objetos JSON en JavaScrip\n",
        "\n",
        "#conjuntos\n",
        "-representaciones de la teoria de conjuntos"
      ]
    },
    {
      "cell_type": "code",
      "metadata": {
        "id": "M--scjuCyHAq"
      },
      "source": [
        "#listas[equivalentes a los arreglos en otros lenguajes]\n",
        "frutas = [\"pera\",\"manzana\",\"fresa\",\"kiwi\",\"naranja\"]\n",
        "print (frutas)\n",
        "cosas=[\"cuadernos\", 2, 3.1416, True, False, [\"rojo\", \"azul\"]]\n",
        "print (cosas)\n",
        "frutas[2]=\"Fresa\"\n",
        "print(frutas)\n",
        "#agregar a lista\n",
        "frutas.append(\"Aguacate\")#agregar nuevo elemnto al final de la lista\n",
        "print(frutas)\n",
        "frutas.insert(2,\"sandia\")#agrgar un nuevo elemtno en cierta posicion y los demas elementos los recorre\n",
        "print (frutas)\n",
        "\n",
        "fecha = ['06','10','2020']\n",
        "print(fecha)\n",
        "fecha_str=\"/\".join(fecha)#convertir una lista a un solo string\n",
        "print(fecha_str)"
      ],
      "execution_count": null,
      "outputs": []
    },
    {
      "cell_type": "code",
      "metadata": {
        "id": "jqQ7fEQM35wH"
      },
      "source": [
        "cosas=[\"cuadernos\", 2, 3.1416, True, False, [\"rojo\", \"azul\"]]\n",
        "#eliminar elementos\n",
        "print (cosas)\n",
        "cosas.append(\"libro\")\n",
        "cosas.append(\"Lapiz\")\n",
        "print(cosas)\n",
        "algo=cosas.pop()#eliminar ultimo elemento de lista\n",
        "print (cosas)\n",
        "\n",
        "algo=cosas.pop(2)#eliminar un eleemento determinado con el index\n",
        "print (cosas)\n",
        "\n",
        "cosas.remove(2)\n",
        "print (cosas)\n",
        "\n",
        "#vaciar una lista\n",
        "#cosas.clear()\n",
        "#print(cosas)\n",
        "\n",
        "#ordenar las listas\n",
        "print (frutas)\n",
        "frutas.sort()#ordenar lista \n",
        "print(frutas)\n"
      ],
      "execution_count": null,
      "outputs": []
    },
    {
      "cell_type": "code",
      "metadata": {
        "id": "f1heSCJ77IJj"
      },
      "source": [
        "#slicing\n",
        "cosas=[\"cuadernos\", 2, 3.1416, True, False, [\"rojo\", \"azul\"]]\n",
        "print(cosas[3:5:1])\n",
        "print(cosas)\n",
        "print(cosas[0][3:5:1])\n",
        "\n",
        "numeros = [1,2,3,4,5,6,7,8,9,10,11,12,13,14]\n",
        "print(numeros[7:12:1])\n",
        "#preguntar por existencias\n",
        "print(100 in numeros)"
      ],
      "execution_count": null,
      "outputs": []
    },
    {
      "cell_type": "markdown",
      "metadata": {
        "id": "7qbnEiaH-rCr"
      },
      "source": [
        "#listas multi dimension\n",
        "listas dentro de listas\n"
      ]
    },
    {
      "cell_type": "code",
      "metadata": {
        "id": "6fmxPIgO-9DU"
      },
      "source": [
        "computadoras=[\"hp\", \"mac book pro 17\", \"mate book\",\"lenovo legion\"]\n",
        "oss=[\"windows 10\", \"linux\", \"android\", \"ios\",]\n",
        "computo=[computadoras, oss]\n",
        "print(computo[0])\n",
        "print(computo[1])\n",
        "print(computo[0][2])\n",
        "print(computo[0][2][0:5])\n",
        "print(computo[0][3][5: :-1])\n",
        "print(\"Linux\"in computo[1])\n",
        "computo.append(dbms)\n",
        "print(computo)\n",
        "print(computo[2][0][0])\n",
        "print(computo[2][1][1])"
      ],
      "execution_count": null,
      "outputs": []
    }
  ]
}